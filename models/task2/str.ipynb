{
 "cells": [
  {
   "cell_type": "code",
   "execution_count": 1,
   "metadata": {},
   "outputs": [],
   "source": [
    "import numpy as np  #linear algebra\n",
    "import pandas as pd # a data processing and CSV I/O library\n",
    "#from pandas_profiling import ProfileReport\n",
    "# Data Visualization\n",
    "import seaborn as sns\n",
    "import matplotlib.pyplot as plt\n",
    "%matplotlib inline\n",
    "sns.set(style='white', color_codes=True)"
   ]
  },
  {
   "cell_type": "code",
   "execution_count": 3,
   "metadata": {},
   "outputs": [],
   "source": [
    "str = pd.read_csv('stroke_data.csv')"
   ]
  },
  {
   "cell_type": "code",
   "execution_count": 10,
   "metadata": {},
   "outputs": [],
   "source": [
    "from sklearn.model_selection import train_test_split\n",
    "from sklearn.tree import DecisionTreeClassifier\n",
    "from sklearn import svm\n",
    "from sklearn.neighbors import KNeighborsClassifier\n",
    "from sklearn.linear_model import LogisticRegression\n",
    "from sklearn.ensemble import RandomForestClassifier\n",
    "from sklearn.naive_bayes import MultinomialNB\n",
    "from sklearn.metrics import accuracy_score , classification_report, ConfusionMatrixDisplay,precision_score,recall_score, f1_score,roc_auc_score,roc_curve\n",
    "\n",
    "\n"
   ]
  },
  {
   "cell_type": "code",
   "execution_count": 15,
   "metadata": {},
   "outputs": [],
   "source": [
    "str = str[np.isfinite(str).all(1)]"
   ]
  },
  {
   "cell_type": "code",
   "execution_count": 16,
   "metadata": {},
   "outputs": [],
   "source": [
    "X = str.drop('stroke',axis=1).values\n",
    "y = str[['stroke']]"
   ]
  },
  {
   "cell_type": "code",
   "execution_count": 17,
   "metadata": {},
   "outputs": [],
   "source": [
    "X_train , X_test , y_train , y_test = train_test_split(X , y , test_size=0.2,random_state=42)"
   ]
  },
  {
   "cell_type": "code",
   "execution_count": 18,
   "metadata": {},
   "outputs": [
    {
     "name": "stdout",
     "output_type": "stream",
     "text": [
      "Logisitic Regression\n",
      "Model performance for Training set (Strokes)\n",
      "- Accuracy: 0.6835\n",
      "- F1 score: 0.682115\n",
      "- Precision: 0.686961\n",
      "- Recall: 0.683514\n",
      "----------------------------------\n",
      "Model performance for Test set (Strokes)\n",
      "- Accuracy: 0.6824\n",
      "- Fl score: 0.6809\n",
      "- Precision: 0.6852\n",
      "- Recall: 0.6824\n",
      "===================================\n",
      "\n",
      "\n",
      "Decision Tree\n",
      "Model performance for Training set (Strokes)\n",
      "- Accuracy: 1.0000\n",
      "- F1 score: 1.000000\n",
      "- Precision: 1.000000\n",
      "- Recall: 1.000000\n",
      "----------------------------------\n",
      "Model performance for Test set (Strokes)\n",
      "- Accuracy: 0.9994\n",
      "- Fl score: 0.9994\n",
      "- Precision: 0.9994\n",
      "- Recall: 0.9994\n",
      "===================================\n",
      "\n",
      "\n",
      "Random Forest\n",
      "Model performance for Training set (Strokes)\n",
      "- Accuracy: 1.0000\n",
      "- F1 score: 1.000000\n",
      "- Precision: 1.000000\n",
      "- Recall: 1.000000\n",
      "----------------------------------\n",
      "Model performance for Test set (Strokes)\n",
      "- Accuracy: 0.9965\n",
      "- Fl score: 0.9965\n",
      "- Precision: 0.9965\n",
      "- Recall: 0.9965\n",
      "===================================\n",
      "\n",
      "\n",
      "K-Nearest Neighbors\n",
      "Model performance for Training set (Strokes)\n",
      "- Accuracy: 0.9228\n",
      "- F1 score: 0.922435\n",
      "- Precision: 0.931679\n",
      "- Recall: 0.922842\n",
      "----------------------------------\n",
      "Model performance for Test set (Strokes)\n",
      "- Accuracy: 0.8511\n",
      "- Fl score: 0.8488\n",
      "- Precision: 0.8750\n",
      "- Recall: 0.8511\n",
      "===================================\n",
      "\n",
      "\n"
     ]
    }
   ],
   "source": [
    "models={\n",
    "    \"Logisitic Regression\" :LogisticRegression(max_iter=20000),\n",
    "    \"Decision Tree\" :DecisionTreeClassifier(),\n",
    "    \"Random Forest\":RandomForestClassifier(),\n",
    "    \"K-Nearest Neighbors\": KNeighborsClassifier(n_neighbors=3)\n",
    "}\n",
    "\n",
    "for i in range(len(list(models))):\n",
    "    model = list(models.values())[i]\n",
    "    model.fit(X_train,y_train.values.ravel()) # Train Model\n",
    "    # Make predictions\n",
    "    y_train_pred = model.predict(X_train)\n",
    "    y_test_pred =  model.predict(X_test)\n",
    "\n",
    "  # Test set performance\n",
    "    model_test_accuracy = accuracy_score(y_test, y_test_pred) \n",
    "    model_test_f1 = f1_score(y_test, y_test_pred, average='weighted') \n",
    "    model_test_precision = precision_score(y_test, y_test_pred , average='weighted') \n",
    "    model_test_recall  = recall_score(y_test, y_test_pred,average='weighted') \n",
    "\n",
    "  # Training set performance\n",
    "    model_train_accuracy = accuracy_score(y_train, y_train_pred) \n",
    "    model_train_f1 = f1_score(y_train, y_train_pred, average= 'weighted') \n",
    "    model_train_precision = precision_score(y_train, y_train_pred,average='weighted') \n",
    "    model_train_recall = recall_score(y_train, y_train_pred,average='weighted') \n",
    "\n",
    "    print(list(models.keys())[i])\n",
    "\n",
    "    print('Model performance for Training set (Strokes)')\n",
    "    print(\"- Accuracy: {:.4f}\".format(model_train_accuracy))\n",
    "    print('- F1 score: {:4f}'.format(model_train_f1))\n",
    "    print('- Precision: {:4f}'.format(model_train_precision))\n",
    "    print('- Recall: {:4f}'.format(model_train_recall))\n",
    "\n",
    "    print('----------------------------------')\n",
    "\n",
    "    print('Model performance for Test set (Strokes)')\n",
    "    print('- Accuracy: {:.4f}'.format(model_test_accuracy) )\n",
    "    print('- Fl score: {:.4f}'.format(model_test_f1))\n",
    "    print('- Precision: {:.4f}'.format(model_test_precision))\n",
    "    print('- Recall: {:.4f}'.format(model_test_recall))\n",
    "\n",
    "\n",
    "    print('='*35)\n",
    "    print('\\n')"
   ]
  },
  {
   "cell_type": "code",
   "execution_count": 19,
   "metadata": {},
   "outputs": [],
   "source": [
    "import pickle\n",
    "\n",
    "for i in range(len(list(models))):\n",
    "    model = list(models.values())[i]\n",
    "    model.fit(X_train, y_train.values.ravel())\n",
    "\n",
    "    # Save the trained model using pickle\n",
    "    with open(f\"{list(models.keys())[i]}.pkl\", 'wb') as f:\n",
    "        pickle.dump(models, f)\n"
   ]
  }
 ],
 "metadata": {
  "kernelspec": {
   "display_name": "base",
   "language": "python",
   "name": "python3"
  },
  "language_info": {
   "codemirror_mode": {
    "name": "ipython",
    "version": 3
   },
   "file_extension": ".py",
   "mimetype": "text/x-python",
   "name": "python",
   "nbconvert_exporter": "python",
   "pygments_lexer": "ipython3",
   "version": "3.11.5"
  }
 },
 "nbformat": 4,
 "nbformat_minor": 2
}
